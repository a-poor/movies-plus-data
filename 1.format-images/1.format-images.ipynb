{
 "cells": [
  {
   "cell_type": "markdown",
   "metadata": {},
   "source": [
    "# 1. Format Images\n",
    "\n",
    "_created by Austin Poor_\n",
    "\n",
    "This notebook"
   ]
  },
  {
   "cell_type": "code",
   "execution_count": 1,
   "metadata": {},
   "outputs": [
    {
     "name": "stdout",
     "output_type": "stream",
     "text": [
      "/opt/conda/lib/python3.7/site-packages/secretstorage/dhcrypto.py:16: CryptographyDeprecationWarning: int_from_bytes is deprecated, use int.from_bytes instead\n",
      "  from cryptography.utils import int_from_bytes\n",
      "/opt/conda/lib/python3.7/site-packages/secretstorage/util.py:25: CryptographyDeprecationWarning: int_from_bytes is deprecated, use int.from_bytes instead\n",
      "  from cryptography.utils import int_from_bytes\n"
     ]
    }
   ],
   "source": [
    "!pip install -qr requirements.txt"
   ]
  },
  {
   "cell_type": "code",
   "execution_count": 2,
   "metadata": {},
   "outputs": [],
   "source": [
    "import io\n",
    "from pathlib import Path\n",
    "from concurrent.futures import ThreadPoolExecutor\n",
    "\n",
    "import boto3\n",
    "import numpy as np\n",
    "from PIL import Image"
   ]
  },
  {
   "cell_type": "code",
   "execution_count": 3,
   "metadata": {},
   "outputs": [],
   "source": [
    "s3 = boto3.client(\"s3\")"
   ]
  },
  {
   "cell_type": "code",
   "execution_count": 4,
   "metadata": {},
   "outputs": [],
   "source": [
    "SOURCE_BUCKET = \"apoor-raw-movie-stills\"\n",
    "DEST_BUCKET = \"apoor-clean-movie-stills\"\n",
    "\n",
    "DEST_SIZE = (500, 500)"
   ]
  },
  {
   "cell_type": "code",
   "execution_count": 5,
   "metadata": {},
   "outputs": [],
   "source": [
    "def has_alpha(img: Image) -> bool:\n",
    "    try: img.getchannel(\"A\")\n",
    "    except: return False\n",
    "    else: return True\n",
    "    \n",
    "def strip_alpha(img: Image) -> Image:\n",
    "    if not has_alpha(img): return img\n",
    "    else: return img.convert(mode=\"RGB\")\n",
    "    \n",
    "def resize_image(img: Image, size: tuple) -> Image:\n",
    "    return img.resize(size)\n",
    "\n",
    "def convert_key(k: str) -> str:\n",
    "    return str(Path(k).with_suffix(\".jpg\"))"
   ]
  },
  {
   "cell_type": "code",
   "execution_count": 6,
   "metadata": {},
   "outputs": [],
   "source": [
    "def get_image_keys(bucket: str) -> [str]:\n",
    "    s3 = boto3.client(\"s3\")\n",
    "    keys = []\n",
    "    start_after = \"\"\n",
    "    while True:\n",
    "        res = s3.list_objects_v2(Bucket=bucket, StartAfter=start_after)\n",
    "        kres = [o[\"Key\"] for o in res.get(\"Contents\",[])]\n",
    "        keys.extend(kres)\n",
    "        if not res[\"IsTruncated\"]: break\n",
    "        else: start_after = kres[-1]\n",
    "    return keys\n",
    "\n",
    "def download_image(bucket: str, key: str) -> Image:\n",
    "    s3 = boto3.client(\"s3\")\n",
    "    obj = s3.get_object(Bucket=bucket,Key=key)\n",
    "    return Image.open(obj[\"Body\"])\n",
    "\n",
    "def upload_image(img: Image, bucket: str, key: str):\n",
    "    s3 = boto3.client(\"s3\")\n",
    "    with io.BytesIO() as output:\n",
    "        img.save(output, format=\"JPEG\")\n",
    "        output.seek(0)\n",
    "        s3.upload_fileobj(output, bucket, key)"
   ]
  },
  {
   "cell_type": "code",
   "execution_count": 7,
   "metadata": {},
   "outputs": [],
   "source": [
    "def parse_image(key: str, b_src: str, b_dest: str, img_size: tuple):\n",
    "    img = download_image(b_src, key)\n",
    "    img = strip_alpha(img)\n",
    "    img = resize_image(img, img_size)\n",
    "    new_key = convert_key(key)\n",
    "    upload_image(img, b_dest, new_key)"
   ]
  },
  {
   "cell_type": "code",
   "execution_count": 8,
   "metadata": {},
   "outputs": [],
   "source": [
    "def curried_parse(k: str):\n",
    "    parse_image(k, SOURCE_BUCKET, DEST_BUCKET, DEST_SIZE)"
   ]
  },
  {
   "cell_type": "code",
   "execution_count": null,
   "metadata": {},
   "outputs": [],
   "source": [
    "with ThreadPoolExecutor() as P:\n",
    "    list(P.map(curried_parse, get_image_keys(SOURCE_BUCKET)))"
   ]
  },
  {
   "cell_type": "code",
   "execution_count": null,
   "metadata": {},
   "outputs": [],
   "source": []
  }
 ],
 "metadata": {
  "instance_type": "ml.g4dn.xlarge",
  "kernelspec": {
   "display_name": "Python 3 (Data Science)",
   "language": "python",
   "name": "python3__SAGEMAKER_INTERNAL__arn:aws:sagemaker:us-west-2:236514542706:image/datascience-1.0"
  },
  "language_info": {
   "codemirror_mode": {
    "name": "ipython",
    "version": 3
   },
   "file_extension": ".py",
   "mimetype": "text/x-python",
   "name": "python",
   "nbconvert_exporter": "python",
   "pygments_lexer": "ipython3",
   "version": "3.7.10"
  }
 },
 "nbformat": 4,
 "nbformat_minor": 4
}
