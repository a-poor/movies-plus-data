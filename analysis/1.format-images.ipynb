{
 "cells": [
  {
   "cell_type": "markdown",
   "metadata": {},
   "source": [
    "# 1. Format Images\n",
    "\n",
    "_created by Austin Poor_\n",
    "\n",
    "This notebook"
   ]
  },
  {
   "cell_type": "code",
   "execution_count": 1,
   "metadata": {},
   "outputs": [],
   "source": [
    "import io\n",
    "from pathlib import Path\n",
    "\n",
    "import ray\n",
    "import boto3\n",
    "import numpy as np\n",
    "from PIL import Image"
   ]
  },
  {
   "cell_type": "code",
   "execution_count": 2,
   "metadata": {},
   "outputs": [
    {
     "name": "stderr",
     "output_type": "stream",
     "text": [
      "2021-05-03 21:56:54,295\tINFO resource_spec.py:231 -- Starting Ray with 3.56 GiB memory available for workers and up to 1.8 GiB for objects. You can adjust these settings with ray.init(memory=<bytes>, object_store_memory=<bytes>).\n",
      "2021-05-03 21:56:55,207\tINFO services.py:1193 -- View the Ray dashboard at \u001b[1m\u001b[32mlocalhost:8266\u001b[39m\u001b[22m\n"
     ]
    }
   ],
   "source": [
    "ray.init();"
   ]
  },
  {
   "cell_type": "code",
   "execution_count": 3,
   "metadata": {},
   "outputs": [],
   "source": [
    "s3 = boto3.client(\"s3\")"
   ]
  },
  {
   "cell_type": "code",
   "execution_count": 4,
   "metadata": {},
   "outputs": [],
   "source": [
    "SOURCE_BUCKET = \"apoor-raw-movie-stills\"\n",
    "DEST_BUCKET = \"apoor-clean-movie-stills\"\n",
    "\n",
    "DEST_SIZE = (300, 300)"
   ]
  },
  {
   "cell_type": "code",
   "execution_count": 5,
   "metadata": {},
   "outputs": [],
   "source": [
    "def has_alpha(img: Image) -> bool:\n",
    "    try: img.getchannel(\"A\")\n",
    "    except: return False\n",
    "    else: return True\n",
    "    \n",
    "def strip_alpha(img: Image) -> Image:\n",
    "    if not has_alpha(img): return img\n",
    "    else: return img.convert(mode=\"RGB\")\n",
    "    \n",
    "def resize_image(img: Image, size: tuple) -> Image:\n",
    "    return img.resize(size)\n",
    "\n",
    "def convert_key(k: str) -> str:\n",
    "    return str(Path(k).with_suffix(\".jpg\"))"
   ]
  },
  {
   "cell_type": "code",
   "execution_count": 6,
   "metadata": {},
   "outputs": [],
   "source": [
    "def get_image_keys(bucket: str) -> [str]:\n",
    "    s3 = boto3.client(\"s3\")\n",
    "    keys = []\n",
    "    start_after = \"\"\n",
    "    while True:\n",
    "        res = s3.list_objects_v2(Bucket=bucket, StartAfter=start_after)\n",
    "        kres = [o[\"Key\"] for o in res.get(\"Contents\",[])]\n",
    "        keys.extend(kres)\n",
    "        if not res[\"IsTruncated\"]: break\n",
    "        else: start_after = kres[-1]\n",
    "    return keys\n",
    "\n",
    "def download_image(bucket: str, key: str) -> Image:\n",
    "    s3 = boto3.client(\"s3\")\n",
    "    obj = s3.get_object(Bucket=bucket,Key=key)\n",
    "    return Image.open(obj[\"Body\"])\n",
    "\n",
    "def upload_image(img: Image, bucket: str, key: str):\n",
    "    s3 = boto3.client(\"s3\")\n",
    "    with io.BytesIO() as output:\n",
    "        img.save(output, format=\"JPEG\")\n",
    "        output.seek(0)\n",
    "        s3.upload_fileobj(output, bucket, key)"
   ]
  },
  {
   "cell_type": "code",
   "execution_count": 7,
   "metadata": {},
   "outputs": [],
   "source": [
    "@ray.remote\n",
    "def parse_image(key: str, b_src: str, b_dest: str, img_size: tuple):\n",
    "    img = download_image(b_src, key)\n",
    "    img = strip_alpha(img)\n",
    "    img = resize_image(img, img_size)\n",
    "    new_key = convert_key(key)\n",
    "    upload_image(img, b_dest, new_key)"
   ]
  },
  {
   "cell_type": "code",
   "execution_count": 8,
   "metadata": {},
   "outputs": [],
   "source": [
    "futures = [\n",
    "    parse_image.remote(k, SOURCE_BUCKET, DEST_BUCKET, DEST_SIZE)\n",
    "    for k in get_image_keys(SOURCE_BUCKET)\n",
    "]\n",
    "ray.get(futures);"
   ]
  },
  {
   "cell_type": "code",
   "execution_count": null,
   "metadata": {},
   "outputs": [],
   "source": []
  }
 ],
 "metadata": {
  "kernelspec": {
   "display_name": "Python 3",
   "language": "python",
   "name": "python3"
  },
  "language_info": {
   "codemirror_mode": {
    "name": "ipython",
    "version": 3
   },
   "file_extension": ".py",
   "mimetype": "text/x-python",
   "name": "python",
   "nbconvert_exporter": "python",
   "pygments_lexer": "ipython3",
   "version": "3.7.3"
  }
 },
 "nbformat": 4,
 "nbformat_minor": 4
}
