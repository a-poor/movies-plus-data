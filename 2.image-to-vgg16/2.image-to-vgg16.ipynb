{
 "cells": [
  {
   "cell_type": "markdown",
   "metadata": {},
   "source": [
    "# 2. VGG16 Image Embeddings\n",
    "\n",
    "_created by Austin Poor_\n",
    "\n",
    "In this notebook, I use a pretrained VGG-16 model to create image embeddings for each of the film stills.\n",
    "\n",
    "The notebook [1.format-images.ipynb](./1.format-images.ipynb), has placed uniform images in an S3 bucket for this notebook to pull down, process, and then upload the results (as individual parquet files) to another S3 bucket."
   ]
  },
  {
   "cell_type": "code",
   "execution_count": 9,
   "metadata": {},
   "outputs": [
    {
     "name": "stdout",
     "output_type": "stream",
     "text": [
      "\u001b[33mWARNING: Running pip as root will break packages and permissions. You should install packages reliably by using venv: https://pip.pypa.io/warnings/venv\u001b[0m\n",
      "\u001b[33mWARNING: Running pip as root will break packages and permissions. You should install packages reliably by using venv: https://pip.pypa.io/warnings/venv\u001b[0m\n"
     ]
    }
   ],
   "source": [
    "!pip install -q --upgrade pip\n",
    "!pip install -q -r requirements.txt"
   ]
  },
  {
   "cell_type": "code",
   "execution_count": 10,
   "metadata": {},
   "outputs": [],
   "source": [
    "import datetime as dt\n",
    "from pathlib import Path\n",
    "from concurrent.futures import ThreadPoolExecutor\n",
    "\n",
    "import boto3\n",
    "import numpy as np\n",
    "from PIL import Image\n",
    "from tqdm import tqdm\n",
    "\n",
    "import pyarrow as pa\n",
    "import pyarrow.parquet as pq\n",
    "\n",
    "import tensorflow as tf\n",
    "from tensorflow.keras.applications.vgg16 import preprocess_input"
   ]
  },
  {
   "cell_type": "code",
   "execution_count": 11,
   "metadata": {
    "scrolled": true
   },
   "outputs": [],
   "source": [
    "tmp_dir = Path(\"./tmp\")\n",
    "tmp_dir.mkdir(exist_ok=True)\n",
    "[f.unlink() for f in tmp_dir.glob(\"*\") if f.is_file()];"
   ]
  },
  {
   "cell_type": "code",
   "execution_count": 12,
   "metadata": {},
   "outputs": [],
   "source": [
    "SOURCE_BUCKET = \"apoor-clean-movie-stills\"\n",
    "DEST_BUCKET = \"apoor-vgg-movie-vecs\"\n",
    "\n",
    "s3 = boto3.client(\"s3\")"
   ]
  },
  {
   "cell_type": "code",
   "execution_count": 13,
   "metadata": {},
   "outputs": [],
   "source": [
    "batch_size = 1_000 # Max of 1,000 per S3"
   ]
  },
  {
   "cell_type": "code",
   "execution_count": 14,
   "metadata": {},
   "outputs": [
    {
     "name": "stdout",
     "output_type": "stream",
     "text": [
      "Model: \"vgg16\"\n",
      "_________________________________________________________________\n",
      "Layer (type)                 Output Shape              Param #   \n",
      "=================================================================\n",
      "input_2 (InputLayer)         [(None, 500, 500, 3)]     0         \n",
      "_________________________________________________________________\n",
      "block1_conv1 (Conv2D)        (None, 500, 500, 64)      1792      \n",
      "_________________________________________________________________\n",
      "block1_conv2 (Conv2D)        (None, 500, 500, 64)      36928     \n",
      "_________________________________________________________________\n",
      "block1_pool (MaxPooling2D)   (None, 250, 250, 64)      0         \n",
      "_________________________________________________________________\n",
      "block2_conv1 (Conv2D)        (None, 250, 250, 128)     73856     \n",
      "_________________________________________________________________\n",
      "block2_conv2 (Conv2D)        (None, 250, 250, 128)     147584    \n",
      "_________________________________________________________________\n",
      "block2_pool (MaxPooling2D)   (None, 125, 125, 128)     0         \n",
      "_________________________________________________________________\n",
      "block3_conv1 (Conv2D)        (None, 125, 125, 256)     295168    \n",
      "_________________________________________________________________\n",
      "block3_conv2 (Conv2D)        (None, 125, 125, 256)     590080    \n",
      "_________________________________________________________________\n",
      "block3_conv3 (Conv2D)        (None, 125, 125, 256)     590080    \n",
      "_________________________________________________________________\n",
      "block3_pool (MaxPooling2D)   (None, 62, 62, 256)       0         \n",
      "_________________________________________________________________\n",
      "block4_conv1 (Conv2D)        (None, 62, 62, 512)       1180160   \n",
      "_________________________________________________________________\n",
      "block4_conv2 (Conv2D)        (None, 62, 62, 512)       2359808   \n",
      "_________________________________________________________________\n",
      "block4_conv3 (Conv2D)        (None, 62, 62, 512)       2359808   \n",
      "_________________________________________________________________\n",
      "block4_pool (MaxPooling2D)   (None, 31, 31, 512)       0         \n",
      "_________________________________________________________________\n",
      "block5_conv1 (Conv2D)        (None, 31, 31, 512)       2359808   \n",
      "_________________________________________________________________\n",
      "block5_conv2 (Conv2D)        (None, 31, 31, 512)       2359808   \n",
      "_________________________________________________________________\n",
      "block5_conv3 (Conv2D)        (None, 31, 31, 512)       2359808   \n",
      "_________________________________________________________________\n",
      "block5_pool (MaxPooling2D)   (None, 15, 15, 512)       0         \n",
      "=================================================================\n",
      "Total params: 14,714,688\n",
      "Trainable params: 14,714,688\n",
      "Non-trainable params: 0\n",
      "_________________________________________________________________\n"
     ]
    }
   ],
   "source": [
    "input_shape = (500, 500, 3)\n",
    "\n",
    "vgg16 = tf.keras.applications.VGG16(\n",
    "    include_top=False,\n",
    "    weights='imagenet',\n",
    "    input_shape=input_shape\n",
    ")\n",
    "vgg16.summary()"
   ]
  },
  {
   "cell_type": "code",
   "execution_count": 15,
   "metadata": {},
   "outputs": [],
   "source": [
    "def iter_keys(bucket: str, batch_size: int = 1_000) -> [str]:\n",
    "    \"\"\"Iterates through keys in an S3 `bucket`\n",
    "    in groups of `batch_size`\n",
    "\n",
    "    :param bucket: Name of the S3 bucket to search\n",
    "    :param batch_size: The max number of keys to return at a time.\n",
    "        Note: S3 will return a maximum of 1,000 keys at a time.\n",
    "    :yields: A list of keys to files in the S3 bucket, `bucket`\n",
    "    \"\"\"\n",
    "    last_key = \"\"\n",
    "    while True:\n",
    "        resp = s3.list_objects_v2(\n",
    "            Bucket=SOURCE_BUCKET,\n",
    "            MaxKeys=batch_size,\n",
    "            StartAfter=last_key\n",
    "        )\n",
    "        keys = [c[\"Key\"] for c in resp[\"Contents\"]]\n",
    "        yield keys\n",
    "        if not resp[\"IsTruncated\"]: break\n",
    "        else: last_key = keys[-1]\n",
    "            \n",
    "            \n",
    "def download_object(bucket: str, key: str, tmp_dir: Path) -> Path:\n",
    "    \"\"\"Downloads a single file from an S3 bucket\n",
    "    and stores it in a temporary directory\n",
    "\n",
    "    :param bucket: The bucket to search in S3\n",
    "    :param key: The object's key in `bucket`\n",
    "    :param tmp_dir: The temporary directory to save the\n",
    "        downloaded file.\n",
    "    :returns: A path to the downloaded file in `tmp_dir`\n",
    "    \"\"\"\n",
    "    res = s3.get_object(Bucket=bucket, Key=key)\n",
    "    filename = tmp_dir / key\n",
    "    with open(filename, \"wb\") as f:\n",
    "        f.write(res[\"Body\"].read())\n",
    "    return filename\n",
    "    \n",
    "    \n",
    "def batch_download(bucket: str, keys: [str], tmp_dir: Path) -> [Path]:\n",
    "    \"\"\"Downloads a batch of objects from an S3 bucket.\n",
    "\n",
    "    Uses the function `download_image` in a multi-threaded\n",
    "    map -- using `concurrent.futures.ThreadPoolExecutor`.\n",
    "\n",
    "    :param bucket: S3 bucket where objects are stored\n",
    "    :param keys: List of object keys stored in `bucket`\n",
    "    :param tmp_dir: Local directory to save downloaded images\n",
    "    :returns: List of paths for locally stored objects\n",
    "        downloaded from S3.\n",
    "    \"\"\"\n",
    "    def curried_download(key: str): \n",
    "        return download_object(bucket,key,tmp_dir)\n",
    "    with ThreadPoolExecutor() as P:\n",
    "        return list(P.map(curried_download,keys))\n",
    "\n",
    "    \n",
    "def clean_tmp_files(paths: [Path]):\n",
    "    \"\"\"Unlinks a list of files using `pathlib.Path.unlink`.\n",
    "\n",
    "    :param paths: List of paths to files that should be deleted.\n",
    "    \"\"\"\n",
    "    [Path(p).unlink() for p in paths]\n",
    "    \n",
    "    \n",
    "def load_image(path: Path) -> np.ndarray:\n",
    "    \"\"\"Loads a JPEG image at `path` as an ndarray.\n",
    "\n",
    "    Uses `tf.io.read_file` and `tf.image.decode_jpeg`\n",
    "\n",
    "    :param path: Path to an image file\n",
    "    :returns: ndarray representation of the image\n",
    "        with dimensions (img_witdh,img_height,img_color_channels)\n",
    "    \"\"\"\n",
    "    return tf.image.decode_jpeg(tf.io.read_file(str(path)))\n",
    "\n",
    "    \n",
    "def load_images(paths: [Path]) -> np.ndarray:\n",
    "    \"\"\"Loads a group of images as numpy arrays,\n",
    "    and concatenates them together.\n",
    "\n",
    "    :param paths: List of paths to image files being loaded\n",
    "    :returns: A single numpy ndarray with dimensions\n",
    "        (n_image,img_witdh,img_height,img_color_channels)\n",
    "    \"\"\"\n",
    "    return np.concatenate([\n",
    "        np.expand_dims(load_image(p),0)\n",
    "        for p in paths\n",
    "    ],0)\n",
    "\n",
    "\n",
    "def format_input(data: np.ndarray) -> np.ndarray:\n",
    "    \"\"\"Formats image for processing using `tf.keras`'s \n",
    "    supplied function for preprocessing VGG16 inputs.\n",
    "    \n",
    "    :param data: ndarray of images with shape: (n,w,h,c)\n",
    "    :returns: ndarray with images rescaled / typed to\n",
    "        match what VGG16 expects.\n",
    "    \"\"\"\n",
    "    return preprocess_input(data)\n",
    "\n",
    "\n",
    "def vgg_process(data: np.ndarray):\n",
    "    \"\"\"Creates VGG-16 embeddings from image data.\n",
    "\n",
    "    :param data: ndarray of image data\n",
    "    :returns: ndarray of image embeddings\n",
    "    \"\"\"\n",
    "    return vgg16.predict(data)\n",
    "\n",
    "\n",
    "def format_output(data: np.ndarray) -> np.ndarray:\n",
    "    \"\"\"Reformats image embeddings for parquet\n",
    "    storrage.\n",
    "\n",
    "    :param data: ndarray of image embeddings (4-dimensional)\n",
    "    :returns: (Mostly-)flattened ndarray with dimensions:\n",
    "        (n_images, flattened_vgg_output)\n",
    "    \"\"\"\n",
    "    batch_size, *_ = data.shape\n",
    "    return data.reshape((batch_size, -1))\n",
    "\n",
    "\n",
    "def make_arrow_table(row: np.ndarray, filename: Path) -> pa.Table:\n",
    "    \"\"\"Converts a flat numpy array into an arrow Table,\n",
    "    where the key is `filename`'s stem and the value is\n",
    "    the row of data.\n",
    "\n",
    "    :param row: A flat numpy array\n",
    "    :param filename: A path where the filename's stem will become\n",
    "        the key in the arrow table\n",
    "    :returns: An arrow table with `filename`'s stem as a key\n",
    "        and `row` as the data\n",
    "    \"\"\"\n",
    "    return pa.table({Path(filename).stem: row})\n",
    "\n",
    "\n",
    "def write_parquet(row: np.ndarray, filename: Path) -> Path:\n",
    "    \"\"\"Writes the data in `row` as an arrow table,\n",
    "    to a parquet file.\n",
    "\n",
    "    Saves the file to `filename` where the extension\n",
    "    is changed to `.parquet`.\n",
    "\n",
    "    In the arrow table, `row`'s key is the stem of\n",
    "    `filename`.\n",
    "\n",
    "    For example, if `filename = \"dir/test.jpg\"` then\n",
    "    the result will be a parquet file: `dir/test.parquet`\n",
    "    which stores an arrow table with the key `test`.\n",
    "\n",
    "    :param row: Data to be stored in a parquet file\n",
    "    :param filename: Source data's filename\n",
    "    :returns: Path to the newly created parquet file\n",
    "    \"\"\"\n",
    "    table = make_arrow_table(row, filename)\n",
    "    new_filename = filename.with_suffix(\".parquet\")\n",
    "    pq.write_table(table, new_filename)\n",
    "    return new_filename\n",
    "\n",
    "\n",
    "def write_parquets(data: np.ndarray, filenames: [Path]) -> [Path]:\n",
    "    \"\"\"Writes the rows in `data` to parquet files\n",
    "    based of the paths in the list, `filenames`.\n",
    "\n",
    "    The rows in `data` should correspond to the paths\n",
    "    in `filenames`.\n",
    "\n",
    "    See `write_parquet` for more details.\n",
    "\n",
    "    :param data: a 2-D ndarray with data to be stored\n",
    "        as parquet files.\n",
    "    :param filenames: List of source `Paths` corresponding\n",
    "        to the rows in `data`.\n",
    "    :returns: A list of `Paths` to the newly created parquet files\n",
    "    \"\"\"\n",
    "    return [write_parquet(r, f) for r, f in zip(data, filenames)]\n",
    "\n",
    "def upload_parquet_file(bucket: str, filename: Path):\n",
    "    \"\"\"Upload a parquet file to S3.\n",
    "\n",
    "    The key used in S3 will be the name and extension\n",
    "    from filename (aka no directory names included).\n",
    "\n",
    "    For example, if `filename = \"path/to/file.ext\"`, then\n",
    "    the object's key in S3 will be `file.ext`.\n",
    "\n",
    "    :param bucket: S3 bucket to store the file\n",
    "    :param filename: File to be stored in S3\n",
    "    \"\"\"\n",
    "    key = filename.name\n",
    "    s3.upload_file(str(filename), bucket, key)\n",
    "\n",
    "\n",
    "def upload_parquet_files(bucket: str, filenames: [Path]):\n",
    "    \"\"\"Upload multiple parquet files to S3.\n",
    "\n",
    "    Uses the function `upload_parquet_file` in a multi-threaded \n",
    "    map with `concurrent.futures.ThreadPoolExecutor`.    \n",
    "\n",
    "    :param bucket: S3 bucket to upload files\n",
    "    :param filenames: List of `Path`s to parquets being uploaded\n",
    "    \"\"\"\n",
    "    def curried_upload(filename):\n",
    "        upload_parquet_file(bucket, filename)\n",
    "\n",
    "    with ThreadPoolExecutor() as P:\n",
    "        list(P.map(curried_upload, filenames))"
   ]
  },
  {
   "cell_type": "code",
   "execution_count": null,
   "metadata": {},
   "outputs": [
    {
     "name": "stderr",
     "output_type": "stream",
     "text": [
      "Starting...: 0batches [00:00, ?batches/s]"
     ]
    },
    {
     "name": "stdout",
     "output_type": "stream",
     "text": [
      "START TIME: 2021-05-06 13:55:04.868376\n",
      "Loading batches of 1,000 images.\n",
      "\n"
     ]
    },
    {
     "name": "stderr",
     "output_type": "stream",
     "text": [
      "Removing tmp files: : 1batches [01:21, 81.45s/batches]"
     ]
    },
    {
     "name": "stdout",
     "output_type": "stream",
     "text": [
      "[   0] COMPLETED IN 0:01:21.218090\n"
     ]
    },
    {
     "name": "stderr",
     "output_type": "stream",
     "text": [
      "Removing tmp files: : 2batches [02:39, 79.46s/batches]  "
     ]
    },
    {
     "name": "stdout",
     "output_type": "stream",
     "text": [
      "[   1] COMPLETED IN 0:01:17.800552\n"
     ]
    },
    {
     "name": "stderr",
     "output_type": "stream",
     "text": [
      "Removing tmp files: : 3batches [04:00, 80.35s/batches]  "
     ]
    },
    {
     "name": "stdout",
     "output_type": "stream",
     "text": [
      "[   2] COMPLETED IN 0:01:21.129284\n"
     ]
    },
    {
     "name": "stderr",
     "output_type": "stream",
     "text": [
      "Removing tmp files: : 4batches [05:23, 81.09s/batches]  "
     ]
    },
    {
     "name": "stdout",
     "output_type": "stream",
     "text": [
      "[   3] COMPLETED IN 0:01:21.974962\n"
     ]
    },
    {
     "name": "stderr",
     "output_type": "stream",
     "text": [
      "Removing tmp files: : 5batches [06:46, 81.90s/batches]  "
     ]
    },
    {
     "name": "stdout",
     "output_type": "stream",
     "text": [
      "[   4] COMPLETED IN 0:01:23.053065\n"
     ]
    },
    {
     "name": "stderr",
     "output_type": "stream",
     "text": [
      "Removing tmp files: : 6batches [08:09, 82.28s/batches]  "
     ]
    },
    {
     "name": "stdout",
     "output_type": "stream",
     "text": [
      "[   5] COMPLETED IN 0:01:22.750251\n"
     ]
    },
    {
     "name": "stderr",
     "output_type": "stream",
     "text": [
      "Removing tmp files: : 7batches [09:32, 82.42s/batches]  "
     ]
    },
    {
     "name": "stdout",
     "output_type": "stream",
     "text": [
      "[   6] COMPLETED IN 0:01:22.375641\n"
     ]
    },
    {
     "name": "stderr",
     "output_type": "stream",
     "text": [
      "Removing tmp files: : 8batches [11:03, 85.17s/batches]  "
     ]
    },
    {
     "name": "stdout",
     "output_type": "stream",
     "text": [
      "[   7] COMPLETED IN 0:01:30.803342\n"
     ]
    },
    {
     "name": "stderr",
     "output_type": "stream",
     "text": [
      "Removing tmp files: : 9batches [12:25, 84.39s/batches]  "
     ]
    },
    {
     "name": "stdout",
     "output_type": "stream",
     "text": [
      "[   8] COMPLETED IN 0:01:22.425338\n"
     ]
    },
    {
     "name": "stderr",
     "output_type": "stream",
     "text": [
      "Removing tmp files: : 10batches [13:48, 83.93s/batches] "
     ]
    },
    {
     "name": "stdout",
     "output_type": "stream",
     "text": [
      "[   9] COMPLETED IN 0:01:22.664082\n"
     ]
    },
    {
     "name": "stderr",
     "output_type": "stream",
     "text": [
      "Removing tmp files: : 11batches [15:10, 83.36s/batches]  "
     ]
    },
    {
     "name": "stdout",
     "output_type": "stream",
     "text": [
      "[  10] COMPLETED IN 0:01:21.756764\n"
     ]
    },
    {
     "name": "stderr",
     "output_type": "stream",
     "text": [
      "Removing tmp files: : 12batches [16:34, 83.31s/batches]  "
     ]
    },
    {
     "name": "stdout",
     "output_type": "stream",
     "text": [
      "[  11] COMPLETED IN 0:01:22.936897\n"
     ]
    },
    {
     "name": "stderr",
     "output_type": "stream",
     "text": [
      "Removing tmp files: : 13batches [17:56, 82.97s/batches]  "
     ]
    },
    {
     "name": "stdout",
     "output_type": "stream",
     "text": [
      "[  12] COMPLETED IN 0:01:21.934721\n"
     ]
    },
    {
     "name": "stderr",
     "output_type": "stream",
     "text": [
      "Removing tmp files: : 14batches [19:18, 82.86s/batches]  "
     ]
    },
    {
     "name": "stdout",
     "output_type": "stream",
     "text": [
      "[  13] COMPLETED IN 0:01:22.373098\n"
     ]
    },
    {
     "name": "stderr",
     "output_type": "stream",
     "text": [
      "Removing tmp files: : 15batches [20:40, 82.51s/batches]  "
     ]
    },
    {
     "name": "stdout",
     "output_type": "stream",
     "text": [
      "[  14] COMPLETED IN 0:01:21.425813\n"
     ]
    },
    {
     "name": "stderr",
     "output_type": "stream",
     "text": [
      "Removing tmp files: : 16batches [22:01, 82.09s/batches]  "
     ]
    },
    {
     "name": "stdout",
     "output_type": "stream",
     "text": [
      "[  15] COMPLETED IN 0:01:20.905906\n"
     ]
    },
    {
     "name": "stderr",
     "output_type": "stream",
     "text": [
      "Removing tmp files: : 17batches [23:24, 82.22s/batches]  "
     ]
    },
    {
     "name": "stdout",
     "output_type": "stream",
     "text": [
      "[  16] COMPLETED IN 0:01:22.258253\n"
     ]
    },
    {
     "name": "stderr",
     "output_type": "stream",
     "text": [
      "Removing tmp files: : 18batches [24:46, 82.17s/batches]  "
     ]
    },
    {
     "name": "stdout",
     "output_type": "stream",
     "text": [
      "[  17] COMPLETED IN 0:01:21.810187\n"
     ]
    },
    {
     "name": "stderr",
     "output_type": "stream",
     "text": [
      "Removing tmp files: : 19batches [26:08, 82.22s/batches]  "
     ]
    },
    {
     "name": "stdout",
     "output_type": "stream",
     "text": [
      "[  18] COMPLETED IN 0:01:22.071658\n"
     ]
    },
    {
     "name": "stderr",
     "output_type": "stream",
     "text": [
      "Removing tmp files: : 20batches [27:30, 82.19s/batches]  "
     ]
    },
    {
     "name": "stdout",
     "output_type": "stream",
     "text": [
      "[  19] COMPLETED IN 0:01:21.896925\n"
     ]
    },
    {
     "name": "stderr",
     "output_type": "stream",
     "text": [
      "Removing tmp files: : 21batches [28:52, 82.13s/batches]  "
     ]
    },
    {
     "name": "stdout",
     "output_type": "stream",
     "text": [
      "[  20] COMPLETED IN 0:01:21.733811\n"
     ]
    },
    {
     "name": "stderr",
     "output_type": "stream",
     "text": [
      "Removing tmp files: : 22batches [30:17, 82.85s/batches]  "
     ]
    },
    {
     "name": "stdout",
     "output_type": "stream",
     "text": [
      "[  21] COMPLETED IN 0:01:24.200487\n"
     ]
    },
    {
     "name": "stderr",
     "output_type": "stream",
     "text": [
      "Removing tmp files: : 23batches [31:40, 82.83s/batches]  "
     ]
    },
    {
     "name": "stdout",
     "output_type": "stream",
     "text": [
      "[  22] COMPLETED IN 0:01:22.533489\n"
     ]
    },
    {
     "name": "stderr",
     "output_type": "stream",
     "text": [
      "Removing tmp files: : 24batches [33:04, 83.22s/batches]  "
     ]
    },
    {
     "name": "stdout",
     "output_type": "stream",
     "text": [
      "[  23] COMPLETED IN 0:01:23.890829\n"
     ]
    },
    {
     "name": "stderr",
     "output_type": "stream",
     "text": [
      "Removing tmp files: : 25batches [34:28, 83.41s/batches]  "
     ]
    },
    {
     "name": "stdout",
     "output_type": "stream",
     "text": [
      "[  24] COMPLETED IN 0:01:23.574825\n"
     ]
    },
    {
     "name": "stderr",
     "output_type": "stream",
     "text": [
      "Removing tmp files: : 26batches [35:52, 83.59s/batches]  "
     ]
    },
    {
     "name": "stdout",
     "output_type": "stream",
     "text": [
      "[  25] COMPLETED IN 0:01:23.765675\n"
     ]
    },
    {
     "name": "stderr",
     "output_type": "stream",
     "text": [
      "Removing tmp files: : 27batches [37:16, 83.86s/batches]  "
     ]
    },
    {
     "name": "stdout",
     "output_type": "stream",
     "text": [
      "[  26] COMPLETED IN 0:01:24.228661\n"
     ]
    },
    {
     "name": "stderr",
     "output_type": "stream",
     "text": [
      "Removing tmp files: : 28batches [38:40, 83.95s/batches]  "
     ]
    },
    {
     "name": "stdout",
     "output_type": "stream",
     "text": [
      "[  27] COMPLETED IN 0:01:23.923524\n"
     ]
    },
    {
     "name": "stderr",
     "output_type": "stream",
     "text": [
      "Removing tmp files: : 29batches [40:05, 84.08s/batches]  "
     ]
    },
    {
     "name": "stdout",
     "output_type": "stream",
     "text": [
      "[  28] COMPLETED IN 0:01:24.152013\n"
     ]
    },
    {
     "name": "stderr",
     "output_type": "stream",
     "text": [
      "Removing tmp files: : 30batches [41:28, 84.04s/batches]  "
     ]
    },
    {
     "name": "stdout",
     "output_type": "stream",
     "text": [
      "[  29] COMPLETED IN 0:01:23.702417\n"
     ]
    },
    {
     "name": "stderr",
     "output_type": "stream",
     "text": [
      "Removing tmp files: : 31batches [42:52, 84.00s/batches]  "
     ]
    },
    {
     "name": "stdout",
     "output_type": "stream",
     "text": [
      "[  30] COMPLETED IN 0:01:23.599866\n"
     ]
    },
    {
     "name": "stderr",
     "output_type": "stream",
     "text": [
      "Removing tmp files: : 32batches [44:16, 83.96s/batches]  "
     ]
    },
    {
     "name": "stdout",
     "output_type": "stream",
     "text": [
      "[  31] COMPLETED IN 0:01:23.588867\n"
     ]
    },
    {
     "name": "stderr",
     "output_type": "stream",
     "text": [
      "Removing tmp files: : 33batches [45:40, 83.81s/batches]  "
     ]
    },
    {
     "name": "stdout",
     "output_type": "stream",
     "text": [
      "[  32] COMPLETED IN 0:01:23.221220\n"
     ]
    },
    {
     "name": "stderr",
     "output_type": "stream",
     "text": [
      "Removing tmp files: : 34batches [47:04, 83.87s/batches]  "
     ]
    },
    {
     "name": "stdout",
     "output_type": "stream",
     "text": [
      "[  33] COMPLETED IN 0:01:23.756622\n"
     ]
    },
    {
     "name": "stderr",
     "output_type": "stream",
     "text": [
      "Removing tmp files: : 35batches [48:27, 83.81s/batches]  "
     ]
    },
    {
     "name": "stdout",
     "output_type": "stream",
     "text": [
      "[  34] COMPLETED IN 0:01:23.419515\n"
     ]
    },
    {
     "name": "stderr",
     "output_type": "stream",
     "text": [
      "Removing tmp files: : 36batches [49:50, 83.39s/batches]  "
     ]
    },
    {
     "name": "stdout",
     "output_type": "stream",
     "text": [
      "[  35] COMPLETED IN 0:01:22.175730\n"
     ]
    },
    {
     "name": "stderr",
     "output_type": "stream",
     "text": [
      "Removing tmp files: : 37batches [51:25, 86.80s/batches]  "
     ]
    },
    {
     "name": "stdout",
     "output_type": "stream",
     "text": [
      "[  36] COMPLETED IN 0:01:34.524845\n"
     ]
    },
    {
     "name": "stderr",
     "output_type": "stream",
     "text": [
      "Removing tmp files: : 38batches [52:49, 86.02s/batches]  "
     ]
    },
    {
     "name": "stdout",
     "output_type": "stream",
     "text": [
      "[  37] COMPLETED IN 0:01:23.763733\n"
     ]
    },
    {
     "name": "stderr",
     "output_type": "stream",
     "text": [
      "Removing tmp files: : 39batches [54:12, 85.30s/batches]  "
     ]
    },
    {
     "name": "stdout",
     "output_type": "stream",
     "text": [
      "[  38] COMPLETED IN 0:01:23.357362\n"
     ]
    },
    {
     "name": "stderr",
     "output_type": "stream",
     "text": [
      "Removing tmp files: : 40batches [55:36, 84.76s/batches]  "
     ]
    },
    {
     "name": "stdout",
     "output_type": "stream",
     "text": [
      "[  39] COMPLETED IN 0:01:23.233902\n"
     ]
    },
    {
     "name": "stderr",
     "output_type": "stream",
     "text": [
      "Removing tmp files: : 41batches [56:59, 84.39s/batches]  "
     ]
    },
    {
     "name": "stdout",
     "output_type": "stream",
     "text": [
      "[  40] COMPLETED IN 0:01:23.280997\n"
     ]
    },
    {
     "name": "stderr",
     "output_type": "stream",
     "text": [
      "Removing tmp files: : 42batches [58:23, 84.27s/batches]  "
     ]
    },
    {
     "name": "stdout",
     "output_type": "stream",
     "text": [
      "[  41] COMPLETED IN 0:01:23.746328\n"
     ]
    },
    {
     "name": "stderr",
     "output_type": "stream",
     "text": [
      "Removing tmp files: : 43batches [59:48, 84.24s/batches]  "
     ]
    },
    {
     "name": "stdout",
     "output_type": "stream",
     "text": [
      "[  42] COMPLETED IN 0:01:23.909210\n"
     ]
    },
    {
     "name": "stderr",
     "output_type": "stream",
     "text": [
      "Removing tmp files: : 44batches [1:01:12, 84.17s/batches]  "
     ]
    },
    {
     "name": "stdout",
     "output_type": "stream",
     "text": [
      "[  43] COMPLETED IN 0:01:23.745057\n"
     ]
    },
    {
     "name": "stderr",
     "output_type": "stream",
     "text": [
      "Removing tmp files: : 45batches [1:02:35, 83.99s/batches]  "
     ]
    },
    {
     "name": "stdout",
     "output_type": "stream",
     "text": [
      "[  44] COMPLETED IN 0:01:23.322576\n"
     ]
    },
    {
     "name": "stderr",
     "output_type": "stream",
     "text": [
      "Removing tmp files: : 46batches [1:03:59, 83.87s/batches]  "
     ]
    },
    {
     "name": "stdout",
     "output_type": "stream",
     "text": [
      "[  45] COMPLETED IN 0:01:23.350089\n"
     ]
    },
    {
     "name": "stderr",
     "output_type": "stream",
     "text": [
      "Removing tmp files: : 47batches [1:05:24, 84.26s/batches]  "
     ]
    },
    {
     "name": "stdout",
     "output_type": "stream",
     "text": [
      "[  46] COMPLETED IN 0:01:24.907940\n"
     ]
    },
    {
     "name": "stderr",
     "output_type": "stream",
     "text": [
      "Removing tmp files: : 48batches [1:06:49, 84.58s/batches]  "
     ]
    },
    {
     "name": "stdout",
     "output_type": "stream",
     "text": [
      "[  47] COMPLETED IN 0:01:25.073359\n"
     ]
    },
    {
     "name": "stderr",
     "output_type": "stream",
     "text": [
      "Removing tmp files: : 49batches [1:08:14, 84.58s/batches]  "
     ]
    },
    {
     "name": "stdout",
     "output_type": "stream",
     "text": [
      "[  48] COMPLETED IN 0:01:24.348637\n"
     ]
    },
    {
     "name": "stderr",
     "output_type": "stream",
     "text": [
      "Removing tmp files: : 50batches [1:09:38, 84.38s/batches]  "
     ]
    },
    {
     "name": "stdout",
     "output_type": "stream",
     "text": [
      "[  49] COMPLETED IN 0:01:23.634033\n"
     ]
    },
    {
     "name": "stderr",
     "output_type": "stream",
     "text": [
      "Removing tmp files: : 51batches [1:11:09, 86.32s/batches]  "
     ]
    },
    {
     "name": "stdout",
     "output_type": "stream",
     "text": [
      "[  50] COMPLETED IN 0:01:30.570138\n"
     ]
    },
    {
     "name": "stderr",
     "output_type": "stream",
     "text": [
      "Removing tmp files: : 52batches [1:12:33, 85.82s/batches]  "
     ]
    },
    {
     "name": "stdout",
     "output_type": "stream",
     "text": [
      "[  51] COMPLETED IN 0:01:24.423017\n"
     ]
    },
    {
     "name": "stderr",
     "output_type": "stream",
     "text": [
      "Removing tmp files: : 53batches [1:13:58, 85.48s/batches]  "
     ]
    },
    {
     "name": "stdout",
     "output_type": "stream",
     "text": [
      "[  52] COMPLETED IN 0:01:24.356898\n"
     ]
    },
    {
     "name": "stderr",
     "output_type": "stream",
     "text": [
      "Removing tmp files: : 54batches [1:15:22, 85.12s/batches]  "
     ]
    },
    {
     "name": "stdout",
     "output_type": "stream",
     "text": [
      "[  53] COMPLETED IN 0:01:23.897729\n"
     ]
    },
    {
     "name": "stderr",
     "output_type": "stream",
     "text": [
      "Removing tmp files: : 55batches [1:16:47, 85.06s/batches]  "
     ]
    },
    {
     "name": "stdout",
     "output_type": "stream",
     "text": [
      "[  54] COMPLETED IN 0:01:24.571772\n"
     ]
    },
    {
     "name": "stderr",
     "output_type": "stream",
     "text": [
      "Removing tmp files: : 56batches [1:18:12, 85.02s/batches]  "
     ]
    },
    {
     "name": "stdout",
     "output_type": "stream",
     "text": [
      "[  55] COMPLETED IN 0:01:24.582526\n"
     ]
    },
    {
     "name": "stderr",
     "output_type": "stream",
     "text": [
      "Removing tmp files: : 57batches [1:19:36, 84.69s/batches]  "
     ]
    },
    {
     "name": "stdout",
     "output_type": "stream",
     "text": [
      "[  56] COMPLETED IN 0:01:23.554338\n"
     ]
    },
    {
     "name": "stderr",
     "output_type": "stream",
     "text": [
      "Removing tmp files: : 58batches [1:21:01, 84.70s/batches]  "
     ]
    },
    {
     "name": "stdout",
     "output_type": "stream",
     "text": [
      "[  57] COMPLETED IN 0:01:24.465447\n"
     ]
    },
    {
     "name": "stderr",
     "output_type": "stream",
     "text": [
      "Removing tmp files: : 59batches [1:22:26, 84.74s/batches]  "
     ]
    },
    {
     "name": "stdout",
     "output_type": "stream",
     "text": [
      "[  58] COMPLETED IN 0:01:24.541477\n"
     ]
    },
    {
     "name": "stderr",
     "output_type": "stream",
     "text": [
      "Removing tmp files: : 60batches [1:23:50, 84.60s/batches]  "
     ]
    },
    {
     "name": "stdout",
     "output_type": "stream",
     "text": [
      "[  59] COMPLETED IN 0:01:24.047242\n"
     ]
    },
    {
     "name": "stderr",
     "output_type": "stream",
     "text": [
      "Removing tmp files: : 61batches [1:25:15, 84.79s/batches]  "
     ]
    },
    {
     "name": "stdout",
     "output_type": "stream",
     "text": [
      "[  60] COMPLETED IN 0:01:24.989291\n"
     ]
    },
    {
     "name": "stderr",
     "output_type": "stream",
     "text": [
      "Removing tmp files: : 62batches [1:26:40, 84.87s/batches]  "
     ]
    },
    {
     "name": "stdout",
     "output_type": "stream",
     "text": [
      "[  61] COMPLETED IN 0:01:24.782751\n"
     ]
    },
    {
     "name": "stderr",
     "output_type": "stream",
     "text": [
      "Removing tmp files: : 63batches [1:28:05, 84.78s/batches]  "
     ]
    },
    {
     "name": "stdout",
     "output_type": "stream",
     "text": [
      "[  62] COMPLETED IN 0:01:24.327999\n"
     ]
    },
    {
     "name": "stderr",
     "output_type": "stream",
     "text": [
      "Removing tmp files: : 64batches [1:29:29, 84.61s/batches]  "
     ]
    },
    {
     "name": "stdout",
     "output_type": "stream",
     "text": [
      "[  63] COMPLETED IN 0:01:23.936512\n"
     ]
    },
    {
     "name": "stderr",
     "output_type": "stream",
     "text": [
      "Removing tmp files: : 65batches [1:30:53, 84.38s/batches]  "
     ]
    },
    {
     "name": "stdout",
     "output_type": "stream",
     "text": [
      "[  64] COMPLETED IN 0:01:23.605218\n"
     ]
    },
    {
     "name": "stderr",
     "output_type": "stream",
     "text": [
      "Removing tmp files: : 66batches [1:32:27, 87.23s/batches]  "
     ]
    },
    {
     "name": "stdout",
     "output_type": "stream",
     "text": [
      "[  65] COMPLETED IN 0:01:33.621810\n"
     ]
    },
    {
     "name": "stderr",
     "output_type": "stream",
     "text": [
      "Removing tmp files: : 67batches [1:33:51, 86.35s/batches]  "
     ]
    },
    {
     "name": "stdout",
     "output_type": "stream",
     "text": [
      "[  66] COMPLETED IN 0:01:23.997787\n"
     ]
    },
    {
     "name": "stderr",
     "output_type": "stream",
     "text": [
      "Removing tmp files: : 68batches [1:35:15, 85.78s/batches]  "
     ]
    },
    {
     "name": "stdout",
     "output_type": "stream",
     "text": [
      "[  67] COMPLETED IN 0:01:24.202147\n"
     ]
    },
    {
     "name": "stderr",
     "output_type": "stream",
     "text": [
      "Removing tmp files: : 69batches [1:36:41, 85.64s/batches]  "
     ]
    },
    {
     "name": "stdout",
     "output_type": "stream",
     "text": [
      "[  68] COMPLETED IN 0:01:25.075296\n"
     ]
    },
    {
     "name": "stderr",
     "output_type": "stream",
     "text": [
      "Removing tmp files: : 70batches [1:38:05, 85.29s/batches]  "
     ]
    },
    {
     "name": "stdout",
     "output_type": "stream",
     "text": [
      "[  69] COMPLETED IN 0:01:24.253078\n"
     ]
    },
    {
     "name": "stderr",
     "output_type": "stream",
     "text": [
      "Removing tmp files: : 71batches [1:39:30, 85.31s/batches]  "
     ]
    },
    {
     "name": "stdout",
     "output_type": "stream",
     "text": [
      "[  70] COMPLETED IN 0:01:25.119931\n"
     ]
    },
    {
     "name": "stderr",
     "output_type": "stream",
     "text": [
      "Removing tmp files: : 72batches [1:40:55, 85.11s/batches]  "
     ]
    },
    {
     "name": "stdout",
     "output_type": "stream",
     "text": [
      "[  71] COMPLETED IN 0:01:24.393577\n"
     ]
    },
    {
     "name": "stderr",
     "output_type": "stream",
     "text": [
      "Removing tmp files: : 73batches [1:42:19, 84.76s/batches]  "
     ]
    },
    {
     "name": "stdout",
     "output_type": "stream",
     "text": [
      "[  72] COMPLETED IN 0:01:23.679943\n"
     ]
    },
    {
     "name": "stderr",
     "output_type": "stream",
     "text": [
      "Removing tmp files: : 74batches [1:43:43, 84.49s/batches]  "
     ]
    },
    {
     "name": "stdout",
     "output_type": "stream",
     "text": [
      "[  73] COMPLETED IN 0:01:23.633577\n"
     ]
    },
    {
     "name": "stderr",
     "output_type": "stream",
     "text": [
      "Removing tmp files: : 75batches [1:45:10, 85.32s/batches]  "
     ]
    },
    {
     "name": "stdout",
     "output_type": "stream",
     "text": [
      "[  74] COMPLETED IN 0:01:27.023883\n"
     ]
    },
    {
     "name": "stderr",
     "output_type": "stream",
     "text": [
      "Removing tmp files: : 76batches [1:46:35, 85.10s/batches]  "
     ]
    },
    {
     "name": "stdout",
     "output_type": "stream",
     "text": [
      "[  75] COMPLETED IN 0:01:24.331988\n"
     ]
    },
    {
     "name": "stderr",
     "output_type": "stream",
     "text": [
      "Removing tmp files: : 77batches [1:48:06, 87.01s/batches]  "
     ]
    },
    {
     "name": "stdout",
     "output_type": "stream",
     "text": [
      "[  76] COMPLETED IN 0:01:31.213544\n"
     ]
    },
    {
     "name": "stderr",
     "output_type": "stream",
     "text": [
      "Removing tmp files: : 78batches [1:49:30, 86.17s/batches]  "
     ]
    },
    {
     "name": "stdout",
     "output_type": "stream",
     "text": [
      "[  77] COMPLETED IN 0:01:23.968248\n"
     ]
    },
    {
     "name": "stderr",
     "output_type": "stream",
     "text": [
      "Removing tmp files: : 79batches [1:50:54, 85.52s/batches]  "
     ]
    },
    {
     "name": "stdout",
     "output_type": "stream",
     "text": [
      "[  78] COMPLETED IN 0:01:23.729976\n"
     ]
    },
    {
     "name": "stderr",
     "output_type": "stream",
     "text": [
      "Removing tmp files: : 80batches [1:52:19, 85.20s/batches]  "
     ]
    },
    {
     "name": "stdout",
     "output_type": "stream",
     "text": [
      "[  79] COMPLETED IN 0:01:24.195542\n"
     ]
    },
    {
     "name": "stderr",
     "output_type": "stream",
     "text": [
      "Removing tmp files: : 81batches [1:53:44, 85.06s/batches]  "
     ]
    },
    {
     "name": "stdout",
     "output_type": "stream",
     "text": [
      "[  80] COMPLETED IN 0:01:24.467760\n"
     ]
    },
    {
     "name": "stderr",
     "output_type": "stream",
     "text": [
      "Removing tmp files: : 82batches [1:55:08, 84.73s/batches]  "
     ]
    },
    {
     "name": "stdout",
     "output_type": "stream",
     "text": [
      "[  81] COMPLETED IN 0:01:23.728993\n"
     ]
    },
    {
     "name": "stderr",
     "output_type": "stream",
     "text": [
      "Removing tmp files: : 83batches [1:56:32, 84.74s/batches]  "
     ]
    },
    {
     "name": "stdout",
     "output_type": "stream",
     "text": [
      "[  82] COMPLETED IN 0:01:24.479631\n"
     ]
    },
    {
     "name": "stderr",
     "output_type": "stream",
     "text": [
      "Removing tmp files: : 84batches [1:58:04, 86.76s/batches]  "
     ]
    },
    {
     "name": "stdout",
     "output_type": "stream",
     "text": [
      "[  83] COMPLETED IN 0:01:31.234901\n"
     ]
    },
    {
     "name": "stderr",
     "output_type": "stream",
     "text": [
      "Removing tmp files: : 85batches [1:59:30, 86.68s/batches]  "
     ]
    },
    {
     "name": "stdout",
     "output_type": "stream",
     "text": [
      "[  84] COMPLETED IN 0:01:26.231493\n"
     ]
    },
    {
     "name": "stderr",
     "output_type": "stream",
     "text": [
      "Removing tmp files: : 86batches [2:00:55, 86.20s/batches]  "
     ]
    },
    {
     "name": "stdout",
     "output_type": "stream",
     "text": [
      "[  85] COMPLETED IN 0:01:24.832821\n"
     ]
    },
    {
     "name": "stderr",
     "output_type": "stream",
     "text": [
      "Embedding with VGG16: : 86batches [2:01:15, 86.20s/batches]"
     ]
    }
   ],
   "source": [
    "start_time = dt.datetime.now()\n",
    "print(f\"START TIME: {start_time}\")\n",
    "print(f\"Loading batches of {batch_size:,d} images.\\n\")\n",
    "\n",
    "bar = tqdm(\n",
    "    enumerate(iter_keys(SOURCE_BUCKET, batch_size)),\n",
    "    desc=\"Starting...\",\n",
    "    unit=\"batch\",\n",
    "    ncols=80\n",
    ")\n",
    "\n",
    "for i, image_keys in bar:\n",
    "    loop_start = dt.datetime.now()\n",
    "    bar.set_description(\"Downloading images\")\n",
    "    image_paths = batch_download(SOURCE_BUCKET, image_keys, tmp_dir)\n",
    "\n",
    "    bar.set_description(\"Loading images\")\n",
    "    input_data = load_images(image_paths)\n",
    "    input_data = format_input(input_data)\n",
    "\n",
    "    bar.set_description(\"Removing tmp files\")\n",
    "    clean_tmp_files(image_paths)\n",
    "\n",
    "    bar.set_description(\"Embedding with VGG16\")\n",
    "    encoding = vgg_process(input_data)\n",
    "    output_data = format_output(encoding)\n",
    "    \n",
    "    bar.set_description(\"Saving to parquet\")\n",
    "    parquet_paths = write_parquets(output_data, image_paths)\n",
    "\n",
    "    bar.set_description(\"Uploading embeddings\")\n",
    "    upload_parquet_files(DEST_BUCKET, parquet_paths)\n",
    "\n",
    "    bar.set_description(\"Removing tmp files\")\n",
    "    clean_tmp_files(parquet_paths)\n",
    "    \n",
    "    bar.write(f\"[{i:4,d}] COMPLETED IN {dt.datetime.now() - loop_start}\")\n",
    "\n",
    "print(f\"\\nFULL TIME TO COMPLETE: {dt.datetime.now() - start_time}\")"
   ]
  },
  {
   "cell_type": "code",
   "execution_count": null,
   "metadata": {},
   "outputs": [],
   "source": []
  }
 ],
 "metadata": {
  "instance_type": "ml.g4dn.xlarge",
  "kernelspec": {
   "display_name": "Python 3 (TensorFlow 2.3 Python 3.7 GPU Optimized)",
   "language": "python",
   "name": "python3__SAGEMAKER_INTERNAL__arn:aws:sagemaker:us-west-2:236514542706:image/tensorflow-2.3-gpu-py37-cu110-ubuntu18.04-v3"
  },
  "language_info": {
   "codemirror_mode": {
    "name": "ipython",
    "version": 3
   },
   "file_extension": ".py",
   "mimetype": "text/x-python",
   "name": "python",
   "nbconvert_exporter": "python",
   "pygments_lexer": "ipython3",
   "version": "3.7.10"
  }
 },
 "nbformat": 4,
 "nbformat_minor": 4
}
